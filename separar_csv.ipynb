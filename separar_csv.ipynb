{
 "cells": [
  {
   "cell_type": "code",
   "execution_count": 1,
   "metadata": {},
   "outputs": [
    {
     "data": {
      "text/plain": [
       "(4920, 134)"
      ]
     },
     "execution_count": 1,
     "metadata": {},
     "output_type": "execute_result"
    }
   ],
   "source": [
    "#import libraries for reading csv file\n",
    "import csv\n",
    "import pandas as pd\n",
    "import numpy as np\n",
    "#read csv file\n",
    "df = pd.read_csv(\"./dataset/Training.csv\")\n",
    "df.describe()\n",
    "df.shape"
   ]
  },
  {
   "cell_type": "code",
   "execution_count": 12,
   "metadata": {},
   "outputs": [],
   "source": [
    "data=df[['prognosis']].value_counts()\n",
    "#print left column\n",
    "columns = (data.index.get_level_values(0).to_list())\n"
   ]
  },
  {
   "cell_type": "code",
   "execution_count": 18,
   "metadata": {},
   "outputs": [
    {
     "name": "stdout",
     "output_type": "stream",
     "text": [
      "   (vertigo) Paroymsal  Positional Vertigo  Hepatitis D  Hypertension   \\\n",
      "0                                      0.0          0.0            0.0   \n",
      "1                                      0.0          0.0            0.0   \n",
      "2                                      0.0          0.0            0.0   \n",
      "3                                      0.0          0.0            0.0   \n",
      "4                                      0.0          0.0            0.0   \n",
      "\n",
      "   Hyperthyroidism  Hypoglycemia  Hypothyroidism  Impetigo  Jaundice  Malaria  \\\n",
      "0              0.0           0.0             0.0       0.0       0.0      0.0   \n",
      "1              0.0           0.0             0.0       0.0       0.0      0.0   \n",
      "2              0.0           0.0             0.0       0.0       0.0      0.0   \n",
      "3              0.0           0.0             0.0       0.0       0.0      0.0   \n",
      "4              0.0           0.0             0.0       0.0       0.0      0.0   \n",
      "\n",
      "   Migraine  ...  Common Cold  Dengue  Diabetes   \\\n",
      "0       0.0  ...          0.0     0.0        0.0   \n",
      "1       0.0  ...          0.0     0.0        0.0   \n",
      "2       0.0  ...          0.0     0.0        0.0   \n",
      "3       0.0  ...          0.0     0.0        0.0   \n",
      "4       0.0  ...          0.0     0.0        0.0   \n",
      "\n",
      "   Dimorphic hemmorhoids(piles)  Drug Reaction  Fungal infection  GERD  \\\n",
      "0                           0.0            0.0               1.0   0.0   \n",
      "1                           0.0            0.0               1.0   0.0   \n",
      "2                           0.0            0.0               1.0   0.0   \n",
      "3                           0.0            0.0               1.0   0.0   \n",
      "4                           0.0            0.0               1.0   0.0   \n",
      "\n",
      "   Gastroenteritis  Heart attack  hepatitis A  \n",
      "0              0.0           0.0          0.0  \n",
      "1              0.0           0.0          0.0  \n",
      "2              0.0           0.0          0.0  \n",
      "3              0.0           0.0          0.0  \n",
      "4              0.0           0.0          0.0  \n",
      "\n",
      "[5 rows x 41 columns]\n"
     ]
    }
   ],
   "source": [
    "#create dataframe with columns\n",
    "df2 = pd.DataFrame(columns=columns)\n",
    "#get list from column named prognosis from df\n",
    "prognosises = df['prognosis'].to_list()\n",
    "for prognosis in prognosises:\n",
    "    #create row with zeros\n",
    "    row = np.zeros(len(columns))\n",
    "    #get index of prognosis\n",
    "    index = columns.index(prognosis)\n",
    "    #set value to 1\n",
    "    row[index] = 1\n",
    "    #concat row to dataframe\n",
    "    df2 = pd.concat([df2, pd.DataFrame([row], columns=columns)], ignore_index=True)\n",
    "\n",
    "print(df2.head())"
   ]
  },
  {
   "cell_type": "code",
   "execution_count": null,
   "metadata": {},
   "outputs": [],
   "source": [
    "#save df2 as csv\n",
    "df2.to_csv(\"./dataset/TrainingY.csv\", index=False)"
   ]
  }
 ],
 "metadata": {
  "kernelspec": {
   "display_name": "iavenv",
   "language": "python",
   "name": "python3"
  },
  "language_info": {
   "codemirror_mode": {
    "name": "ipython",
    "version": 3
   },
   "file_extension": ".py",
   "mimetype": "text/x-python",
   "name": "python",
   "nbconvert_exporter": "python",
   "pygments_lexer": "ipython3",
   "version": "3.10.7"
  },
  "orig_nbformat": 4,
  "vscode": {
   "interpreter": {
    "hash": "dffdadd7d0c6163ef4b95a346d99e8b1cd67dfa6fd9c4a770754b04757a772ac"
   }
  }
 },
 "nbformat": 4,
 "nbformat_minor": 2
}
