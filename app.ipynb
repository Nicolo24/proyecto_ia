{
 "cells": [
  {
   "cell_type": "code",
   "execution_count": 9,
   "metadata": {},
   "outputs": [
    {
     "name": "stdout",
     "output_type": "stream",
     "text": [
      "Read train data...\n",
      "Read test data...\n",
      "Training model...\n",
      "Model trained!\n"
     ]
    }
   ],
   "source": [
    "from flask import Flask,render_template, request, jsonify\n",
    "import pandas as pd\n",
    "import numpy as np\n",
    "from sklearn.tree import DecisionTreeClassifier\n",
    "from sklearn.multioutput import MultiOutputClassifier\n",
    "from sintomas import categorias, sintomas, traduccion\n",
    "\n",
    "print('Read train data...')\n",
    "\n",
    "df = pd.read_csv(\"./dataset/Training.csv\")\n",
    "df.describe()\n",
    "df.shape\n",
    "\n",
    "df.drop('Unnamed: 133', axis=1, inplace=True)\n",
    "df.columns\n",
    "\n",
    "df['prognosis'].value_counts()\n",
    "\n",
    "x = df.drop('prognosis', axis = 1)\n",
    "\n",
    "# read Training2.csv\n",
    "df2 = pd.read_csv(\"./dataset/TrainingY.csv\")\n",
    "y=df2\n",
    "\n",
    "print('Read test data...')\n",
    "dft = pd.read_csv(\"./dataset/Testing.csv\")\n",
    "dft.describe()\n",
    "dft.shape\n",
    "\n",
    "dft.columns\n",
    "\n",
    "dft['prognosis'].value_counts()\n",
    "\n",
    "xt = dft.drop('prognosis', axis = 1)\n",
    "yt = dft['prognosis']\n",
    "\n",
    "base_classifier = DecisionTreeClassifier()\n",
    "multi_output_classifier = MultiOutputClassifier(base_classifier)\n",
    "\n",
    "print('Training model...')\n",
    "multi_output_classifier.fit(x, y)\n",
    "print('Model trained!')"
   ]
  },
  {
   "cell_type": "code",
   "execution_count": 14,
   "metadata": {},
   "outputs": [
    {
     "data": {
      "text/plain": [
       "[array([[1., 0.]]),\n",
       " array([[1., 0.]]),\n",
       " array([[1., 0.]]),\n",
       " array([[1., 0.]]),\n",
       " array([[1., 0.]]),\n",
       " array([[1., 0.]]),\n",
       " array([[1., 0.]]),\n",
       " array([[1., 0.]]),\n",
       " array([[1., 0.]]),\n",
       " array([[1., 0.]]),\n",
       " array([[1., 0.]]),\n",
       " array([[1., 0.]]),\n",
       " array([[1., 0.]]),\n",
       " array([[1., 0.]]),\n",
       " array([[1., 0.]]),\n",
       " array([[1., 0.]]),\n",
       " array([[1., 0.]]),\n",
       " array([[1., 0.]]),\n",
       " array([[1., 0.]]),\n",
       " array([[1., 0.]]),\n",
       " array([[1., 0.]]),\n",
       " array([[1., 0.]]),\n",
       " array([[1., 0.]]),\n",
       " array([[1., 0.]]),\n",
       " array([[1., 0.]]),\n",
       " array([[0., 1.]]),\n",
       " array([[1., 0.]]),\n",
       " array([[1., 0.]]),\n",
       " array([[1., 0.]]),\n",
       " array([[1., 0.]]),\n",
       " array([[1., 0.]]),\n",
       " array([[1., 0.]]),\n",
       " array([[1., 0.]]),\n",
       " array([[1., 0.]]),\n",
       " array([[1., 0.]]),\n",
       " array([[1., 0.]]),\n",
       " array([[1., 0.]]),\n",
       " array([[1., 0.]]),\n",
       " array([[1., 0.]]),\n",
       " array([[1., 0.]]),\n",
       " array([[1., 0.]])]"
      ]
     },
     "execution_count": 14,
     "metadata": {},
     "output_type": "execute_result"
    }
   ],
   "source": [
    "multi_output_classifier.predict(xt.loc[[1]])\n",
    "multi_output_classifier.predict_proba(xt.loc[[1]])"
   ]
  }
 ],
 "metadata": {
  "kernelspec": {
   "display_name": "iavenv",
   "language": "python",
   "name": "python3"
  },
  "language_info": {
   "codemirror_mode": {
    "name": "ipython",
    "version": 3
   },
   "file_extension": ".py",
   "mimetype": "text/x-python",
   "name": "python",
   "nbconvert_exporter": "python",
   "pygments_lexer": "ipython3",
   "version": "3.10.7 (tags/v3.10.7:6cc6b13, Sep  5 2022, 14:08:36) [MSC v.1933 64 bit (AMD64)]"
  },
  "orig_nbformat": 4,
  "vscode": {
   "interpreter": {
    "hash": "dffdadd7d0c6163ef4b95a346d99e8b1cd67dfa6fd9c4a770754b04757a772ac"
   }
  }
 },
 "nbformat": 4,
 "nbformat_minor": 2
}
